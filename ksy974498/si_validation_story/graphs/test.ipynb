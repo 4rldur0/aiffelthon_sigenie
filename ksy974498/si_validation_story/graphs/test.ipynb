{
 "cells": [
  {
   "cell_type": "code",
   "execution_count": 12,
   "metadata": {},
   "outputs": [],
   "source": [
    "# !pip install fastapi uvicorn requests nest-asyncio"
   ]
  },
  {
   "cell_type": "code",
   "execution_count": 2,
   "metadata": {},
   "outputs": [
    {
     "name": "stdout",
     "output_type": "stream",
     "text": [
      "{'detail': 'Process already started for this booking reference.'}\n",
      "Step: get_bkg -> {'bkg_data': \"{'_id': ObjectId('66e1561282f4fbec38c95922'), 'bookingReference': 'CHERRY202409072244', 'customerName': 'CUSTOMER 9946', 'shipperName': 'SHIPPER 5029', 'invoiceReceiver': 'INVOICE RECEIVER 3204', 'voyageDetails': {'vesselName': 'APL TEMASEK', 'voyageNumber': '2024581E'}, 'cargoDetails': {'hsCode': '132054', 'chapterDescription': 'SAMPLE CHAPTER DESCRIPTION 31', 'commodity': 'SAMPLE COMMODITY 89'}, 'containerDetails': {'size': '45 HIGH CUBE', 'type': 'REEFER CONTAINER', 'quantity': 4}, 'routeDetails': {'placeOfReceipt': 'NINGBO', 'portOfLoading': 'NINGBO', 'portOfDischarge': 'YANTIAN', 'placeOfDelivery': 'YANTIAN'}, 'scheduleDetails': {'estimatedArrivalAtLoadingPort': '2024-09-14 21:26', 'estimatedDepartureFromLoadingPort': '2024-10-30 21:26', 'estimatedArrivalAtDischargePort': '2024-11-17 21:26'}, 'emptyContainerPickupLocation': 'LE HAVRE, JAPAN', 'shippingTerm': 'EXW', 'remarks': 'No special instructions'}\"}\n",
      "Step: get_si -> {'si_data': '{\\'_id\\': ObjectId(\\'66e1562f0abd52a6a79a2ff6\\'), \\'bookingReference\\': \\'CHERRY202409072244\\', \\'voyageDetails\\': {\\'vesselName\\': \\'APL TEMASEK\\', \\'voyageNumber\\': \\'2024581E\\'}, \\'routeDetails\\': {\\'placeOfReceipt\\': \\'NINGBO\\', \\'portOfLoading\\': \\'NINGBO\\', \\'portOfDischarge\\': \\'YANTIAN\\', \\'placeOfDelivery\\': \\'YANTIAN\\'}, \\'paymentDetails\\': {\\'freightPaymentTerms\\': \\'COLLECT\\', \\'freightPayableAt\\': \\'ROTTERDAM, NETHERLANDS\\'}, \\'documentationDetails\\': {\\'blType\\': \\'NEGOTIABLE\\', \\'numberOfOriginalBLs\\': \\'3\\', \\'numberOfCopies\\': \\'0\\'}, \\'partyDetails\\': {\\'shipper\\': {\\'name\\': \\'SHIPPER 5029\\', \\'address\\': \\'NO. 188, SHANXI ROAD, NINGBO, CHINA\\', \\'telephone\\': \\'+86 574 8765 4321\\'}, \\'consignee\\': {\\'name\\': \\'EUROTECH TRADING BV\\', \\'address\\': \\'WATERLOO PLAZA, 121-123 WATERLOOPLEIN, 1011 PG AMSTERDAM, NETHERLANDS\\', \\'telephone\\': \\'+31 20 624 3500\\'}, \\'notifyParty\\': {\\'name\\': \\'EUROTECH TRADING BV\\', \\'address\\': \\'WATERLOO PLAZA, 121-123 WATERLOOPLEIN, 1011 PG AMSTERDAM, NETHERLANDS\\', \\'telephone\\': \\'+31 20 624 3500\\'}}, \\'shippingTerm\\': \\'CIF\\', \\'hsCode\\': \\'8541400000\\', \\'commodityDescription\\': \\'POWER TRANSFORMERS\\', \\'containers\\': [{\\'containerNumber\\': \\'TCLU9876543\\', \\'sealNumber\\': \\'123456\\', \\'containerType\\': \\'모름\\', \\'packageType\\': \\'CRATES\\', \\'numberOfPackages\\': 2, \\'grossWeight\\': 15000.0, \\'measurement\\': 30.0, \\'cargoDescription\\': \"SHIPPER\\'S LOAD, COUNT & WEIGHT, SOTW & SEAL SAID TO CONTAIN: CIF, ROTTERDAM, NETHERLANDS POWER TRANSFORMERS\", \\'marksAndNumbers\\': \\'AS PER ATTACHED RIDER\\'}, {\\'containerNumber\\': \\'TCLU7654321\\', \\'sealNumber\\': \\'654321\\', \\'containerType\\': \\'모름\\', \\'packageType\\': \\'CRATES\\', \\'numberOfPackages\\': 2, \\'grossWeight\\': 15000.0, \\'measurement\\': 30.0, \\'cargoDescription\\': \"SHIPPER\\'S LOAD, COUNT & WEIGHT, SOTW & SEAL SAID TO CONTAIN: CIF, ROTTERDAM, NETHERLANDS POWER TRANSFORMERS\", \\'marksAndNumbers\\': \\'AS PER ATTACHED RIDER\\'}], \\'totalShipment\\': {\\'totalContainers\\': \\'TWO (20 O/T X2) CONTAINERS ONLY\\', \\'totalPackages\\': \\'4\\', \\'packageType\\': \\'CRATES\\', \\'containerType\\': \\'20 O/TX2\\', \\'totalGrossWeight\\': \\'30000.0\\', \\'totalMeasurement\\': \\'60.0\\'}, \\'outOfGaugeDimensions\\': {\\'length\\': 0, \\'width\\': 0, \\'height\\': 0, \\'overWidth\\': 0, \\'overHeight\\': 0}, \\'additionalInformation\\': {\\'lcDetails\\': {\\'lcNumber\\': \\'0123456789\\'}, \\'certificateDetails\\': \\'1234567890\\', \\'originalBLDistribution\\': {\\'name\\': \\'BANK OF CHINA NINGBO BRANCH\\', \\'address\\': \\'NO. 123 HAIYAN ROAD, NINGBO, CHINA\\', \\'telephone\\': \\'+86 574 8666 7890\\', \\'fax\\': \\'+86 574 8666 7891\\'}, \\'originalInvoiceDistribution\\': {\\'name\\': \\'BANK OF CHINA NINGBO BRANCH\\', \\'address\\': \\'NO. 123 HAIYAN ROAD, NINGBO, CHINA\\', \\'telephone\\': \\'+86 574 8666 7890\\', \\'fax\\': \\'+86 574 8666 7891\\'}, \\'onboardDate\\': \\'2024-09-14 21:26\\', \\'additionalRemarks\\': \\'No special instructions\\'}}'}\n",
      "Step: check_missing_data -> {'missing_answer': {'vessel_route_details': {'vessel_name': {'status': 'OK'}, 'voyage_number': {'status': 'OK'}, 'place_of_receipt': {'status': 'OK'}, 'port_of_loading': {'status': 'OK'}, 'port_of_discharge': {'status': 'OK'}, 'place_of_delivery': {'status': 'OK'}, 'total_status': 'OK'}, 'payment_documentation': {'freight_payment_terms': {'status': 'OK'}, 'bl_type': {'status': 'OK'}, 'number_of_original_bls': {'status': 'OK'}, 'total_status': 'OK'}, 'party_information': {'status': {'status': 'OK'}, 'total_status': 'OK'}, 'shipping_details': {'status': {'status': 'OK'}, 'total_status': 'OK'}, 'container_information': {'status': {'status': 'OK'}, 'total_status': 'OK'}, 'total_shipment_summary': {'status': {'status': 'OK'}, 'total_status': 'OK'}, 'additional_information': {'status': {'status': 'OK'}, 'total_status': 'OK'}, 'special_cargo_information': {'out_of_gauge_dimensions_info': {'status': 'Missing', 'reason': 'Out of gauge dimensions are all zero.'}, 'hazardous_materials_info': {'status': 'Missing', 'reason': 'No hazardous materials information provided.'}, 'refrigerated_cargo_info': {'status': 'Missing', 'reason': 'No refrigerated cargo information provided.'}, 'total_status': 'Warning'}, 'total_status': 'Warning'}}\n",
      "Step: generate_intake_report -> {'intake_report': {'overall_status': 'Warning', 'issues_found': 'Out of gauge dimensions are all zero; No hazardous materials information provided; No refrigerated cargo information provided.', 'missing_summary': 'Missing information regarding out of gauge dimensions, hazardous materials, and refrigerated cargo.', 'conclusion': 'The shipment report is mostly complete, but there are critical missing details regarding special cargo information that need to be addressed.'}}\n",
      "{'message': 'Process finished and state cleared.'}\n"
     ]
    }
   ],
   "source": [
    "import uvicorn\n",
    "import requests\n",
    "\n",
    "# 시작하는 Booking Reference\n",
    "booking_reference = \"CHERRY202409072244\"\n",
    "\n",
    "# 1. Process 시작\n",
    "response = requests.post(\"http://127.0.0.1:8000/start_process/\", json={\"booking_reference\": booking_reference})\n",
    "print(response.json())\n",
    "\n",
    "# 2. 각 Step 실행\n",
    "steps = [\"get_bkg\", \"get_si\", \"check_missing_data\", \"generate_intake_report\"]\n",
    "\n",
    "for step in steps:\n",
    "    response = requests.post(f\"http://127.0.0.1:8000/step/{step}\", json={\"booking_reference\": booking_reference})\n",
    "    print(f\"Step: {step} ->\", response.json())\n",
    "\n",
    "# 3. Process 완료\n",
    "response = requests.post(\"http://127.0.0.1:8000/finish_process/\", json={\"booking_reference\": booking_reference})\n",
    "print(response.json())"
   ]
  },
  {
   "cell_type": "code",
   "execution_count": null,
   "metadata": {},
   "outputs": [],
   "source": []
  }
 ],
 "metadata": {
  "kernelspec": {
   "display_name": ".venv",
   "language": "python",
   "name": "python3"
  },
  "language_info": {
   "codemirror_mode": {
    "name": "ipython",
    "version": 3
   },
   "file_extension": ".py",
   "mimetype": "text/x-python",
   "name": "python",
   "nbconvert_exporter": "python",
   "pygments_lexer": "ipython3",
   "version": "3.12.5"
  }
 },
 "nbformat": 4,
 "nbformat_minor": 2
}
