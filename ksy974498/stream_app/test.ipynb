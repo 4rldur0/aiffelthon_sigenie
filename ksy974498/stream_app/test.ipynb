{
 "cells": [
  {
   "cell_type": "code",
   "execution_count": 7,
   "metadata": {},
   "outputs": [
    {
     "data": {
      "text/plain": [
       "'/Users/seongyeon/Desktop/Aifflethon/aiffelthon_tys/ksy974498/stream_app/docs'"
      ]
     },
     "execution_count": 7,
     "metadata": {},
     "output_type": "execute_result"
    }
   ],
   "source": [
    "import os\n",
    "\n",
    "os.path.abspath('docs')"
   ]
  },
  {
   "cell_type": "code",
   "execution_count": 11,
   "metadata": {},
   "outputs": [
    {
     "data": {
      "text/plain": [
       "'/Users/seongyeon/Desktop/Aifflethon/aiffelthon_tys/ksy974498/stream_app/docs/CHERRYShippingLineCompanyPolicy.pdf'"
      ]
     },
     "execution_count": 11,
     "metadata": {},
     "output_type": "execute_result"
    }
   ],
   "source": [
    "os.path.join(os.path.abspath('docs'), \"CHERRYShippingLineCompanyPolicy.pdf\")"
   ]
  },
  {
   "cell_type": "code",
   "execution_count": 13,
   "metadata": {},
   "outputs": [
    {
     "ename": "SyntaxError",
     "evalue": "invalid decimal literal (2725533297.py, line 1)",
     "output_type": "error",
     "traceback": [
      "\u001b[0;36m  Cell \u001b[0;32mIn[13], line 1\u001b[0;36m\u001b[0m\n\u001b[0;31m    c = \"{'_id': ObjectId('66e1562f0abd52a6a79a30b0'), 'bookingReference': 'CHERRY202409074722', 'voyageDetails': {'vesselName': 'CMA CGM GEORG FORSTER', 'voyageNumber': '2024172W'}, 'routeDetails': {'placeOfReceipt': 'TANGER', 'portOfLoading': 'TANGER', 'portOfDischarge': 'ROTTERDAM', 'placeOfDelivery': 'ROTTERDAM'}, 'paymentDetails': {'freightPaymentTerms': 'PREPAID', 'freightPayableAt': 'ROTTERDAM, NETHERLANDS'}, 'documentationDetails': {'blType': ' negotiable', 'numberOfOriginalBLs': '3', 'numberOfCopies': '0'}, 'partyDetails': {'shipper': {'name': 'SHIPPER 8062', 'address': '23rd Floor, World Trade Centre, Rotterdam, Netherlands', 'telephone': ''}, 'consignee': {'name': 'AMERICAN FREIGHT FORWARDERS INC.', 'address': '123 Wall Street, New York, USA', 'telephone': '+1 212 555 1212'}, 'notifyParty': {'name': 'CUSTOMER 3864', 'address': '145 Main Street, Anytown, USA', 'telephone': ''}}, 'shippingTerm': 'CIF', 'hsCode': '85444210', 'commodityDescription': 'COMPUTER HARDWARE - MOTHERBOARDS', 'containers': [{'containerNumber': 'MSCU5678901', 'sealNumber': '123456', 'containerType': '', 'packageType': '', 'numberOfPackages': 100, 'grossWeight': 8000.0, 'measurement': 25.0, 'cargoDescription': \"SHIPPER'S LOAD, COUNT & WEIGHT, SOTW & SEAL SAID TO CONTAIN: MOTHERBOARDS\", 'marksAndNumbers': 'EURO123'}, {'containerNumber': 'MSCU6789012', 'sealNumber': '654321', 'containerType': '', 'packageType': '', 'numberOfPackages': 100, 'grossWeight': 8000.0, 'measurement': 25.0, 'cargoDescription': \"SHIPPER'S LOAD, COUNT & WEIGHT, SOTW & SEAL SAID TO CONTAIN: MOTHERBOARDS\", 'marksAndNumbers': 'EURO456'}, {'containerNumber': 'MSCU7890123', 'sealNumber': '987654', 'containerType': '', 'packageType': '', 'numberOfPackages': 100, 'grossWeight': 8000.0, 'measurement': 25.0, 'cargoDescription': \"SHIPPER'S LOAD, COUNT & WEIGHT, SOTW & SEAL SAID TO CONTAIN: MOTHERBOARDS\", 'marksAndNumbers': 'EURO789'}], 'totalShipment': {'totalContainers': 'THREE (20 DRY) CONTAINERS ONLY', 'totalPackages': '300', 'packageType': 'CARTONS', 'containerType': '20 DRY', 'totalGrossWeight': '24000.0', 'totalMeasurement': '75.0'}, 'outOfGaugeDimensions': {'length': 0, 'width': 0, 'height': 0, 'overWidth': 0, 'overHeight': 0}, 'additionalInformation': {'lcDetails': {'lcNumber': 'LC1234567890'}, 'certificateDetails': ['CO20240911153402'], 'originalBLDistribution': {'name': 'CUSTOMER 3864', 'address': '145 Main Street, Anytown, USA'}, 'originalInvoiceDistribution': {'name': 'EUROLOGISTICS LTD.', 'address': '23rd Floor, World Trade Centre, Rotterdam, Netherlands'}, 'onboardDate': '2024-09-13 21:24', 'additionalRemarks': 'No special instructions'}}\"\u001b[0m\n\u001b[0m                                                                                                                                                                                                                                                                                                                                                                                                                                                                                                                                                                                                                                                                                                                                                                                                                                                                                                                                                                                                                                                                                                                                                                                                                                                                                                                                                                                                                                                                                                                                                                                                                                                                                                                                                                                                                                                                                                                                                                                                                                                                                                                                                                                                                                                                                                                                                                                                                                                                                                                                                                                                     ^\u001b[0m\n\u001b[0;31mSyntaxError\u001b[0m\u001b[0;31m:\u001b[0m invalid decimal literal\n"
     ]
    }
   ],
   "source": [
    "c = \"{'_id': ObjectId('66e1562f0abd52a6a79a30b0'), 'bookingReference': 'CHERRY202409074722', 'voyageDetails': {'vesselName': 'CMA CGM GEORG FORSTER', 'voyageNumber': '2024172W'}, 'routeDetails': {'placeOfReceipt': 'TANGER', 'portOfLoading': 'TANGER', 'portOfDischarge': 'ROTTERDAM', 'placeOfDelivery': 'ROTTERDAM'}, 'paymentDetails': {'freightPaymentTerms': 'PREPAID', 'freightPayableAt': 'ROTTERDAM, NETHERLANDS'}, 'documentationDetails': {'blType': ' negotiable', 'numberOfOriginalBLs': '3', 'numberOfCopies': '0'}, 'partyDetails': {'shipper': {'name': 'SHIPPER 8062', 'address': '23rd Floor, World Trade Centre, Rotterdam, Netherlands', 'telephone': ''}, 'consignee': {'name': 'AMERICAN FREIGHT FORWARDERS INC.', 'address': '123 Wall Street, New York, USA', 'telephone': '+1 212 555 1212'}, 'notifyParty': {'name': 'CUSTOMER 3864', 'address': '145 Main Street, Anytown, USA', 'telephone': ''}}, 'shippingTerm': 'CIF', 'hsCode': '85444210', 'commodityDescription': 'COMPUTER HARDWARE - MOTHERBOARDS', 'containers': [{'containerNumber': 'MSCU5678901', 'sealNumber': '123456', 'containerType': '', 'packageType': '', 'numberOfPackages': 100, 'grossWeight': 8000.0, 'measurement': 25.0, 'cargoDescription': \"SHIPPER'S LOAD, COUNT & WEIGHT, SOTW & SEAL SAID TO CONTAIN: MOTHERBOARDS\", 'marksAndNumbers': 'EURO123'}, {'containerNumber': 'MSCU6789012', 'sealNumber': '654321', 'containerType': '', 'packageType': '', 'numberOfPackages': 100, 'grossWeight': 8000.0, 'measurement': 25.0, 'cargoDescription': \"SHIPPER'S LOAD, COUNT & WEIGHT, SOTW & SEAL SAID TO CONTAIN: MOTHERBOARDS\", 'marksAndNumbers': 'EURO456'}, {'containerNumber': 'MSCU7890123', 'sealNumber': '987654', 'containerType': '', 'packageType': '', 'numberOfPackages': 100, 'grossWeight': 8000.0, 'measurement': 25.0, 'cargoDescription': \"SHIPPER'S LOAD, COUNT & WEIGHT, SOTW & SEAL SAID TO CONTAIN: MOTHERBOARDS\", 'marksAndNumbers': 'EURO789'}], 'totalShipment': {'totalContainers': 'THREE (20 DRY) CONTAINERS ONLY', 'totalPackages': '300', 'packageType': 'CARTONS', 'containerType': '20 DRY', 'totalGrossWeight': '24000.0', 'totalMeasurement': '75.0'}, 'outOfGaugeDimensions': {'length': 0, 'width': 0, 'height': 0, 'overWidth': 0, 'overHeight': 0}, 'additionalInformation': {'lcDetails': {'lcNumber': 'LC1234567890'}, 'certificateDetails': ['CO20240911153402'], 'originalBLDistribution': {'name': 'CUSTOMER 3864', 'address': '145 Main Street, Anytown, USA'}, 'originalInvoiceDistribution': {'name': 'EUROLOGISTICS LTD.', 'address': '23rd Floor, World Trade Centre, Rotterdam, Netherlands'}, 'onboardDate': '2024-09-13 21:24', 'additionalRemarks': 'No special instructions'}}\""
   ]
  }
 ],
 "metadata": {
  "kernelspec": {
   "display_name": ".venv",
   "language": "python",
   "name": "python3"
  },
  "language_info": {
   "codemirror_mode": {
    "name": "ipython",
    "version": 3
   },
   "file_extension": ".py",
   "mimetype": "text/x-python",
   "name": "python",
   "nbconvert_exporter": "python",
   "pygments_lexer": "ipython3",
   "version": "3.12.7"
  }
 },
 "nbformat": 4,
 "nbformat_minor": 2
}
