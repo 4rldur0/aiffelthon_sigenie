{
 "cells": [
  {
   "cell_type": "code",
   "execution_count": 2,
   "metadata": {},
   "outputs": [],
   "source": [
    "import os\n",
    "from pymongo import MongoClient\n",
    "from dotenv import load_dotenv"
   ]
  },
  {
   "cell_type": "code",
   "execution_count": 4,
   "metadata": {},
   "outputs": [],
   "source": [
    "# Load environment variables from .env file\n",
    "load_dotenv()\n",
    "\n",
    "# Set up MongoDB connection using environment variables\n",
    "MONGO_URI = os.getenv(\"MONGODB_URI\")\n",
    "DB_NAME = os.getenv(\"MONGODB_DB_NAME\")\n",
    "COLLECTION_NAME = \"si\"  # Collection storing shipping instructions\n",
    "\n",
    "# Create MongoDB client and connect to the specific database and collection\n",
    "client = MongoClient(MONGO_URI)\n",
    "db = client[DB_NAME]\n",
    "collection = db[COLLECTION_NAME]\n",
    "\n",
    "def fetch_shipping_instruction(booking_reference):\n",
    "    \"\"\"\n",
    "    Fetch the shipping instruction from MongoDB based on the booking reference.\n",
    "    \"\"\"\n",
    "    return collection.find_one({'bookingReference': booking_reference})"
   ]
  },
  {
   "cell_type": "code",
   "execution_count": 5,
   "metadata": {},
   "outputs": [],
   "source": [
    "booking_reference= \"CHERRY202409072244\""
   ]
  },
  {
   "cell_type": "code",
   "execution_count": 6,
   "metadata": {},
   "outputs": [],
   "source": [
    "si_data = fetch_shipping_instruction(booking_reference)"
   ]
  },
  {
   "cell_type": "code",
   "execution_count": 7,
   "metadata": {},
   "outputs": [
    {
     "data": {
      "text/plain": [
       "{'_id': ObjectId('66fcfef90e5b23189a5fa165'),\n",
       " 'bookingReference': 'CHERRY202409072244',\n",
       " 'voyageDetails': {'vesselName': 'APL TEMASEK', 'voyageNumber': '2024581E'},\n",
       " 'routeDetails': {'placeOfReceipt': 'NINGBO',\n",
       "  'portOfLoading': 'NINGBO',\n",
       "  'portOfDischarge': 'YANTIAN',\n",
       "  'placeOfDelivery': 'YANTIAN'},\n",
       " 'paymentDetails': {'freightPaymentTerms': 'COLLECT',\n",
       "  'freightPayableAt': 'ROTTERDAM, NETHERLANDS'},\n",
       " 'documentationDetails': {'blType': 'NEGOTIABLE',\n",
       "  'numberOfOriginalBLs': 3,\n",
       "  'numberOfCopies': 0},\n",
       " 'partyDetails': {'shipper': {'name': 'SHIPPER 5029',\n",
       "   'address': 'NO. 188, SHANXI ROAD, NINGBO, CHINA',\n",
       "   'telephone': '+86 574 8765 4321',\n",
       "   'email': 'INFO@CHINAIMPORTEXPORT.COM'},\n",
       "  'consignee': {'name': 'EUROTECH TRADING BV',\n",
       "   'address': 'WATERLOO PLAZA, 121-123 WATERLOOPLEIN, 1011 PG AMSTERDAM, NETHERLANDS',\n",
       "   'taxId': 'NL856321452B01',\n",
       "   'president': 'MR. JAN VAN DER WIEL',\n",
       "   'telephone': '+31 20 624 3500',\n",
       "   'fax': '+31 20 624 3501'},\n",
       "  'notifyParty': {'name': 'EUROTECH TRADING BV',\n",
       "   'address': 'WATERLOO PLAZA, 121-123 WATERLOOPLEIN, 1011 PG AMSTERDAM, NETHERLANDS',\n",
       "   'taxId': 'NL856321452B01',\n",
       "   'president': 'MR. JAN VAN DER WIEL',\n",
       "   'telephone': '+31 20 624 3500',\n",
       "   'fax': '+31 20 624 3501'}},\n",
       " 'shippingTerm': 'DOOR/DOOR',\n",
       " 'hsCode': '8541400000',\n",
       " 'commodityDescription': 'POWER TRANSFORMERS',\n",
       " 'containers': [{'containerNumber': 'TCLU9876543',\n",
       "   'sealNumber': '123456',\n",
       "   'marksAndNumbers': 'AS PER ATTACHED RIDER',\n",
       "   'numberOfPackages': 2,\n",
       "   'packageType': 'CRATES',\n",
       "   'cargoDescription': \"SHIPPER'S LOAD, COUNT & WEIGHT, SOTW & SEAL SAID TO CONTAIN: CIF, ROTTERDAM, NETHERLANDS POWER TRANSFORMERS\",\n",
       "   'grossWeight': 15000.0,\n",
       "   'measurement': 30.0},\n",
       "  {'containerNumber': 'TCLU7654321',\n",
       "   'sealNumber': '654321',\n",
       "   'marksAndNumbers': 'AS PER ATTACHED RIDER',\n",
       "   'numberOfPackages': 2,\n",
       "   'packageType': 'CRATES',\n",
       "   'cargoDescription': \"SHIPPER'S LOAD, COUNT & WEIGHT, SOTW & SEAL SAID TO CONTAIN: CIF, ROTTERDAM, NETHERLANDS POWER TRANSFORMERS\",\n",
       "   'grossWeight': 15000.0,\n",
       "   'measurement': 30.0}],\n",
       " 'totalShipment': {'totalContainers': 'TWO (20 O/T X2) CONTAINERS ONLY',\n",
       "  'totalPackages': 4,\n",
       "  'packageType': 'CRATES',\n",
       "  'containerType': '20 O/TX2',\n",
       "  'totalGrossWeight': 30000.0,\n",
       "  'totalMeasurement': 60.0},\n",
       " 'outOfGaugeDimensions': {'length': 'In-Gauge',\n",
       "  'width': 'In-Gauge',\n",
       "  'height': 'In-Gauge',\n",
       "  'additionalInfo': 'In-gauge in O/T Container'},\n",
       " 'additionalInformation': {'lcDetails': {'lcNumber': '0123456789'},\n",
       "  'certificateDetails': '1234567890',\n",
       "  'originalBLDistribution': {'name': 'BANK OF CHINA NINGBO BRANCH',\n",
       "   'address': 'NO. 123 HAIYAN ROAD, NINGBO, CHINA',\n",
       "   'telephone': '+86 574 8666 7890',\n",
       "   'fax': '+86 574 8666 7891'},\n",
       "  'originalInvoiceDistribution': {'name': 'BANK OF CHINA NINGBO BRANCH',\n",
       "   'address': 'NO. 123 HAIYAN ROAD, NINGBO, CHINA',\n",
       "   'telephone': '+86 574 8666 7890',\n",
       "   'fax': '+86 574 8666 7891'},\n",
       "  'onboardDate': '2024-09-14 21:26',\n",
       "  'additionalRemarks': 'No special instructions'}}"
      ]
     },
     "execution_count": 7,
     "metadata": {},
     "output_type": "execute_result"
    }
   ],
   "source": [
    "si_data"
   ]
  },
  {
   "cell_type": "code",
   "execution_count": 8,
   "metadata": {},
   "outputs": [
    {
     "data": {
      "text/plain": [
       "True"
      ]
     },
     "execution_count": 8,
     "metadata": {},
     "output_type": "execute_result"
    }
   ],
   "source": [
    "import os\n",
    "import json\n",
    "from bson import json_util\n",
    "from typing import List, Dict, TypedDict, Annotated, Sequence, Optional\n",
    "# from langchain_google_genai import ChatGoogleGenerativeAI\n",
    "from langchain_openai import ChatOpenAI\n",
    "from pymongo import MongoClient\n",
    "from operator import add\n",
    "from langchain_core.messages import HumanMessage, AIMessage\n",
    "from langgraph.graph import StateGraph, START, END\n",
    "from langchain.prompts import PromptTemplate\n",
    "from langchain.schema import StrOutputParser\n",
    "\n",
    "from dotenv import load_dotenv\n",
    "\n",
    "load_dotenv()"
   ]
  },
  {
   "cell_type": "code",
   "execution_count": 11,
   "metadata": {},
   "outputs": [],
   "source": [
    "from langchain.callbacks.streaming_stdout import StreamingStdOutCallbackHandler\n",
    "\n",
    "llm = ChatOpenAI(temperature=0, \n",
    "                    model_name=\"gpt-4o-mini\",\n",
    "                    streaming=True,              \n",
    "                    callbacks=[StreamingStdOutCallbackHandler()]\n",
    "                    )"
   ]
  },
  {
   "cell_type": "code",
   "execution_count": 12,
   "metadata": {},
   "outputs": [],
   "source": [
    "from typing import TypedDict\n",
    "\n",
    "class State(TypedDict):\n",
    "    booking_reference: str\n",
    "    bkg_data: dict\n",
    "    si_data: dict\n",
    "    missing_answer: str\n",
    "    summary_answer: str\n",
    "    next: str"
   ]
  },
  {
   "cell_type": "code",
   "execution_count": null,
   "metadata": {},
   "outputs": [],
   "source": []
  }
 ],
 "metadata": {
  "kernelspec": {
   "display_name": "sigenie",
   "language": "python",
   "name": "python3"
  },
  "language_info": {
   "codemirror_mode": {
    "name": "ipython",
    "version": 3
   },
   "file_extension": ".py",
   "mimetype": "text/x-python",
   "name": "python",
   "nbconvert_exporter": "python",
   "pygments_lexer": "ipython3",
   "version": "3.12.6"
  }
 },
 "nbformat": 4,
 "nbformat_minor": 2
}
