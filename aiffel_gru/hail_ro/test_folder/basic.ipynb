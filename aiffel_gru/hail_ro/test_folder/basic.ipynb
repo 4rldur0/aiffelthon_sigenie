{
 "cells": [
  {
   "cell_type": "markdown",
   "metadata": {},
   "source": [
    "## 패키지 Import, 환경변수"
   ]
  },
  {
   "cell_type": "code",
   "execution_count": 4,
   "metadata": {},
   "outputs": [],
   "source": [
    "import os\n",
    "from dotenv import load_dotenv\n",
    "from pymongo import MongoClient\n",
    "\n",
    "load_dotenv() #환경변수\n",
    "\n",
    "MONGO_URI = os.getenv(\"MONGODB_URI\")\n",
    "DB_NAME = os.getenv(\"MONGODB_DB_NAME\")\n",
    "COLLECTION_NAME = 'si'"
   ]
  },
  {
   "cell_type": "code",
   "execution_count": 6,
   "metadata": {},
   "outputs": [],
   "source": [
    "from langchain_openai import ChatOpenAI\n",
    "llm = ChatOpenAI(model='gpt-4o-mini',temperature=0.0)"
   ]
  },
  {
   "cell_type": "markdown",
   "metadata": {},
   "source": [
    "# MongoDB"
   ]
  },
  {
   "cell_type": "code",
   "execution_count": 7,
   "metadata": {},
   "outputs": [],
   "source": [
    "from typing import Dict, List\n",
    "\n",
    "#data fatch 함수\n",
    "def fetch_data_from_mongodb(collection_name: str, query: Dict = None, limit: int = None) -> List[Dict]:\n",
    "    #query: Dict = None : 딕셔너리 형태로 query 가져오고 기본 None\n",
    "    #> List[Dict]: 함수의 반환 값에 대한 타입\n",
    " \n",
    "\n",
    "    client = MongoClient(MONGO_URI) #데이터 서버 연결\n",
    "    db = client[DB_NAME] #데이터 베이스 선택\n",
    "    collection = db[COLLECTION_NAME] #컬렉션 선택\n",
    "    \n",
    "    # Prepare the find operation\n",
    "    find_operation = collection.find(query) if query else collection.find()\n",
    "    \n",
    "    # Fetch and return the data\n",
    "    data = list(find_operation)\n",
    "    \n",
    "    # Close the connection\n",
    "    client.close()\n",
    "    \n",
    "    return data"
   ]
  },
  {
   "cell_type": "markdown",
   "metadata": {},
   "source": [
    "# Langgraph"
   ]
  },
  {
   "cell_type": "markdown",
   "metadata": {},
   "source": [
    "### Langgraph funtions"
   ]
  },
  {
   "cell_type": "code",
   "execution_count": 9,
   "metadata": {},
   "outputs": [],
   "source": [
    "from langchain.prompts import PromptTemplate\n",
    "from langchain.schema import StrOutputParser\n",
    "from bson import json_util\n",
    "\n",
    "def check_missing(data):\n",
    "    prompt = PromptTemplate(\n",
    "        template=\"Are there any missing data with the following collection: {data}?\",\n",
    "        input_variables=[\"data\"]\n",
    "    )\n",
    "    llm = ChatOpenAI()  # You might want to customize this\n",
    "    chain = prompt | llm | StrOutputParser()\n",
    "    try:\n",
    "        response = chain.invoke({\"data\": json_util.dumps(data)})\n",
    "        #mongodb에서 가져온 데이터를 Json으로 parse\n",
    "        return response\n",
    "    except Exception as e:\n",
    "        raise RuntimeError(f\"Error during checking missing data: {e}\")"
   ]
  },
  {
   "cell_type": "code",
   "execution_count": 10,
   "metadata": {},
   "outputs": [],
   "source": [
    "def summarize_data(data, missing_info):\n",
    "    prompt = PromptTemplate(\n",
    "        template=\"Summarize the main information and missing data from this collection:\\n\\nData: {data}\\n\\nMissing Information: {missing_info}\",\n",
    "        input_variables=[\"data\", \"missing_info\"]\n",
    "    )\n",
    "    chain = prompt | llm | StrOutputParser()\n",
    "    try:\n",
    "        response = chain.invoke({\"data\": json_util.dumps(data), \"missing_info\": missing_info})\n",
    "        return response\n",
    "    except Exception as e:\n",
    "        raise RuntimeError(f\"Error during summarizing data: {e}\")"
   ]
  },
  {
   "cell_type": "code",
   "execution_count": 15,
   "metadata": {},
   "outputs": [],
   "source": [
    "from typing import Optional, Annotated, Sequence, TypedDict\n",
    "from langchain_core.messages import HumanMessage, AIMessage\n",
    "from operator import add\n",
    "\n",
    "class GraphState(TypedDict):\n",
    "    messages: Annotated[Sequence[HumanMessage | AIMessage], add]\n",
    "    #HumanMessage | AIMessage : HumanMessage 객체 or AIMessage 타입 객체를 담을 수 있음\n",
    "    data: Optional[dict]\n",
    "    #Optional : None 값 가능\n",
    "    missing_info: Optional[str]\n",
    "    summary: Optional[str]\n",
    "    booking_reference: str"
   ]
  },
  {
   "cell_type": "code",
   "execution_count": 16,
   "metadata": {},
   "outputs": [],
   "source": [
    "# Node to fetch data from MongoDB\n",
    "def fetch_data_node(state):\n",
    "    booking_reference = state['booking_reference']\n",
    "    data = fetch_data_from_mongodb(COLLECTION_NAME, {\"bookingReference\": booking_reference})\n",
    "    return {\"data\": data}\n",
    "\n",
    "# Node to check for missing data\n",
    "def check_missing_node(state):\n",
    "    data = state['data']\n",
    "    missing_info = check_missing(json_util.dumps(data))\n",
    "    return {\"missing_info\": missing_info}\n",
    "\n",
    "# Node to summarize data and missing info\n",
    "def create_summary_node(state):\n",
    "    data = state['data']\n",
    "    missing_info = state['missing_info']\n",
    "    summary = summarize_data(json_util.dumps(data), missing_info)\n",
    "    return {\"summary\": summary}"
   ]
  },
  {
   "cell_type": "code",
   "execution_count": 18,
   "metadata": {},
   "outputs": [],
   "source": [
    "from langgraph.graph import StateGraph, START, END\n",
    "\n",
    "# Create the graph\n",
    "workflow = StateGraph(GraphState)\n",
    "\n",
    "# Add nodes\n",
    "workflow.add_node(\"fetch_data\", fetch_data_node)\n",
    "workflow.add_node(\"check_missing\", check_missing_node)\n",
    "workflow.add_node(\"create_summary\", create_summary_node)\n",
    "\n",
    "# Add edges\n",
    "workflow.add_edge(START, 'fetch_data')\n",
    "workflow.add_edge('fetch_data', 'check_missing')\n",
    "workflow.add_edge('check_missing', 'create_summary')\n",
    "workflow.add_edge('create_summary', END)\n",
    "\n",
    "# Compile the graph\n",
    "graph = workflow.compile()"
   ]
  },
  {
   "cell_type": "code",
   "execution_count": 19,
   "metadata": {},
   "outputs": [
    {
     "data": {
      "text/plain": [
       "{'messages': [],\n",
       " 'data': [{'_id': ObjectId('66fcfef90e5b23189a5fa165'),\n",
       "   'bookingReference': 'CHERRY202409072244',\n",
       "   'voyageDetails': {'vesselName': 'APL TEMASEK', 'voyageNumber': '2024581E'},\n",
       "   'routeDetails': {'placeOfReceipt': 'NINGBO',\n",
       "    'portOfLoading': 'NINGBO',\n",
       "    'portOfDischarge': 'YANTIAN',\n",
       "    'placeOfDelivery': 'YANTIAN'},\n",
       "   'paymentDetails': {'freightPaymentTerms': 'COLLECT',\n",
       "    'freightPayableAt': 'ROTTERDAM, NETHERLANDS'},\n",
       "   'documentationDetails': {'blType': 'NEGOTIABLE',\n",
       "    'numberOfOriginalBLs': 3,\n",
       "    'numberOfCopies': 0},\n",
       "   'partyDetails': {'shipper': {'name': 'SHIPPER 5029',\n",
       "     'address': 'NO. 188, SHANXI ROAD, NINGBO, CHINA',\n",
       "     'telephone': '+86 574 8765 4321',\n",
       "     'email': 'INFO@CHINAIMPORTEXPORT.COM'},\n",
       "    'consignee': {'name': 'EUROTECH TRADING BV',\n",
       "     'address': 'WATERLOO PLAZA, 121-123 WATERLOOPLEIN, 1011 PG AMSTERDAM, NETHERLANDS',\n",
       "     'taxId': 'NL856321452B01',\n",
       "     'president': 'MR. JAN VAN DER WIEL',\n",
       "     'telephone': '+31 20 624 3500',\n",
       "     'fax': '+31 20 624 3501'},\n",
       "    'notifyParty': {'name': 'EUROTECH TRADING BV',\n",
       "     'address': 'WATERLOO PLAZA, 121-123 WATERLOOPLEIN, 1011 PG AMSTERDAM, NETHERLANDS',\n",
       "     'taxId': 'NL856321452B01',\n",
       "     'president': 'MR. JAN VAN DER WIEL',\n",
       "     'telephone': '+31 20 624 3500',\n",
       "     'fax': '+31 20 624 3501'}},\n",
       "   'shippingTerm': 'DOOR/DOOR',\n",
       "   'hsCode': '8541400000',\n",
       "   'commodityDescription': 'POWER TRANSFORMERS',\n",
       "   'containers': [{'containerNumber': 'TCLU9876543',\n",
       "     'sealNumber': '123456',\n",
       "     'marksAndNumbers': 'AS PER ATTACHED RIDER',\n",
       "     'numberOfPackages': 2,\n",
       "     'packageType': 'CRATES',\n",
       "     'cargoDescription': \"SHIPPER'S LOAD, COUNT & WEIGHT, SOTW & SEAL SAID TO CONTAIN: CIF, ROTTERDAM, NETHERLANDS POWER TRANSFORMERS\",\n",
       "     'grossWeight': 15000.0,\n",
       "     'measurement': 30.0},\n",
       "    {'containerNumber': 'TCLU7654321',\n",
       "     'sealNumber': '654321',\n",
       "     'marksAndNumbers': 'AS PER ATTACHED RIDER',\n",
       "     'numberOfPackages': 2,\n",
       "     'packageType': 'CRATES',\n",
       "     'cargoDescription': \"SHIPPER'S LOAD, COUNT & WEIGHT, SOTW & SEAL SAID TO CONTAIN: CIF, ROTTERDAM, NETHERLANDS POWER TRANSFORMERS\",\n",
       "     'grossWeight': 15000.0,\n",
       "     'measurement': 30.0}],\n",
       "   'totalShipment': {'totalContainers': 'TWO (20 O/T X2) CONTAINERS ONLY',\n",
       "    'totalPackages': 4,\n",
       "    'packageType': 'CRATES',\n",
       "    'containerType': '20 O/TX2',\n",
       "    'totalGrossWeight': 30000.0,\n",
       "    'totalMeasurement': 60.0},\n",
       "   'outOfGaugeDimensions': {'length': 'In-Gauge',\n",
       "    'width': 'In-Gauge',\n",
       "    'height': 'In-Gauge',\n",
       "    'additionalInfo': 'In-gauge in O/T Container'},\n",
       "   'additionalInformation': {'lcDetails': {'lcNumber': '0123456789'},\n",
       "    'certificateDetails': '1234567890',\n",
       "    'originalBLDistribution': {'name': 'BANK OF CHINA NINGBO BRANCH',\n",
       "     'address': 'NO. 123 HAIYAN ROAD, NINGBO, CHINA',\n",
       "     'telephone': '+86 574 8666 7890',\n",
       "     'fax': '+86 574 8666 7891'},\n",
       "    'originalInvoiceDistribution': {'name': 'BANK OF CHINA NINGBO BRANCH',\n",
       "     'address': 'NO. 123 HAIYAN ROAD, NINGBO, CHINA',\n",
       "     'telephone': '+86 574 8666 7890',\n",
       "     'fax': '+86 574 8666 7891'},\n",
       "    'onboardDate': '2024-09-14 21:26',\n",
       "    'additionalRemarks': 'No special instructions'}}],\n",
       " 'missing_info': 'No, there are no missing data in the provided collection.',\n",
       " 'summary': '### Summary of Main Information:\\n\\n- **Booking Reference**: CHERRY202409072244\\n- **Voyage Details**:\\n  - Vessel Name: APL TEMASEK\\n  - Voyage Number: 2024581E\\n- **Route Details**:\\n  - Place of Receipt: NINGBO\\n  - Port of Loading: NINGBO\\n  - Port of Discharge: YANTIAN\\n  - Place of Delivery: YANTIAN\\n- **Payment Details**:\\n  - Freight Payment Terms: COLLECT\\n  - Freight Payable At: ROTTERDAM, NETHERLANDS\\n- **Documentation Details**:\\n  - Bill of Lading Type: NEGOTIABLE\\n  - Number of Original BLs: 3\\n  - Number of Copies: 0\\n- **Party Details**:\\n  - **Shipper**:\\n    - Name: SHIPPER 5029\\n    - Address: NO. 188, SHANXI ROAD, NINGBO, CHINA\\n    - Telephone: +86 574 8765 4321\\n    - Email: INFO@CHINAIMPORTEXPORT.COM\\n  - **Consignee**:\\n    - Name: EUROTECH TRADING BV\\n    - Address: WATERLOO PLAZA, 121-123 WATERLOOPLEIN, 1011 PG AMSTERDAM, NETHERLANDS\\n    - Tax ID: NL856321452B01\\n    - President: MR. JAN VAN DER WIEL\\n    - Telephone: +31 20 624 3500\\n    - Fax: +31 20 624 3501\\n  - **Notify Party**: Same as Consignee\\n- **Shipping Term**: DOOR/DOOR\\n- **HS Code**: 8541400000\\n- **Commodity Description**: POWER TRANSFORMERS\\n- **Containers**:\\n  - Two containers (TCLU9876543 and TCLU7654321), each with:\\n    - Seal Number: 123456 / 654321\\n    - Number of Packages: 2\\n    - Package Type: CRATES\\n    - Gross Weight: 15000.0 kg each\\n    - Measurement: 30.0\\n- **Total Shipment**:\\n  - Total Containers: TWO (20 O/T X2) CONTAINERS ONLY\\n  - Total Packages: 4\\n  - Total Gross Weight: 30000.0 kg\\n  - Total Measurement: 60.0\\n- **Out of Gauge Dimensions**: All dimensions are \"In-Gauge\"\\n- **Additional Information**:\\n  - LC Number: 0123456789\\n  - Certificate Details: 1234567890\\n  - Original BL Distribution: BANK OF CHINA NINGBO BRANCH\\n  - Original Invoice Distribution: BANK OF CHINA NINGBO BRANCH\\n  - Onboard Date: 2024-09-14 21:26\\n  - Additional Remarks: No special instructions\\n\\n### Missing Information:\\n- There are no missing data in the provided collection.',\n",
       " 'booking_reference': 'CHERRY202409072244'}"
      ]
     },
     "execution_count": 19,
     "metadata": {},
     "output_type": "execute_result"
    }
   ],
   "source": [
    "graph.invoke({\"booking_reference\": \"CHERRY202409072244\"})"
   ]
  },
  {
   "cell_type": "code",
   "execution_count": null,
   "metadata": {},
   "outputs": [],
   "source": []
  }
 ],
 "metadata": {
  "kernelspec": {
   "display_name": "sigenie",
   "language": "python",
   "name": "python3"
  },
  "language_info": {
   "codemirror_mode": {
    "name": "ipython",
    "version": 3
   },
   "file_extension": ".py",
   "mimetype": "text/x-python",
   "name": "python",
   "nbconvert_exporter": "python",
   "pygments_lexer": "ipython3",
   "version": "3.12.6"
  }
 },
 "nbformat": 4,
 "nbformat_minor": 2
}
